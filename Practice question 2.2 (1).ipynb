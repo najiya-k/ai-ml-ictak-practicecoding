{
 "cells": [
  {
   "cell_type": "code",
   "execution_count": 1,
   "id": "1fdf2e85",
   "metadata": {},
   "outputs": [],
   "source": [
    "# Write a python program to find the largest of 3 numbers\n"
   ]
  },
  {
   "cell_type": "code",
   "execution_count": 2,
   "id": "b621e6d1",
   "metadata": {},
   "outputs": [
    {
     "name": "stdout",
     "output_type": "stream",
     "text": [
      "the largest number is 17\n"
     ]
    }
   ],
   "source": [
    "x=max(4,6,12,1,17)\n",
    "print(\"the largest number is\",x)"
   ]
  },
  {
   "cell_type": "code",
   "execution_count": 3,
   "id": "38bbd019",
   "metadata": {},
   "outputs": [],
   "source": [
    "# Write a python program to find the numbers divisible by 3 and 7 from 100 to 800\n"
   ]
  },
  {
   "cell_type": "code",
   "execution_count": 18,
   "id": "8b26c4b2",
   "metadata": {},
   "outputs": [
    {
     "name": "stdout",
     "output_type": "stream",
     "text": [
      "[105, 126, 147, 168, 189, 210, 231, 252, 273, 294, 315, 336, 357, 378, 399, 420, 441, 462, 483, 504, 525, 546, 567, 588, 609, 630, 651, 672, 693, 714, 735, 756, 777, 798]\n"
     ]
    }
   ],
   "source": [
    "divlist =[]\n",
    "for i in range(100,801):\n",
    "    if i%3==0 and i%7==0:\n",
    "        divlist.append(i)\n",
    "print(divlist)\n",
    "       \n",
    "        \n",
    "        \n",
    "        "
   ]
  },
  {
   "cell_type": "code",
   "execution_count": 13,
   "id": "22c1fe9f",
   "metadata": {},
   "outputs": [],
   "source": [
    "# Write a python program to find the count of numbers divisible by 8 from 1 to 1000\n"
   ]
  },
  {
   "cell_type": "code",
   "execution_count": 17,
   "id": "e872e9f4",
   "metadata": {},
   "outputs": [
    {
     "name": "stdout",
     "output_type": "stream",
     "text": [
      "125\n"
     ]
    }
   ],
   "source": [
    "c=0\n",
    "\n",
    "for i in range(1,1001):\n",
    "    if i%8==0:\n",
    "        c+=1\n",
    "print(c)\n",
    "        "
   ]
  },
  {
   "cell_type": "code",
   "execution_count": 19,
   "id": "c6b7ad60",
   "metadata": {},
   "outputs": [],
   "source": [
    "#Write a Python program to construct the following pattern, using a nested for loop."
   ]
  },
  {
   "cell_type": "code",
   "execution_count": 21,
   "id": "7d531dc7",
   "metadata": {},
   "outputs": [
    {
     "name": "stdout",
     "output_type": "stream",
     "text": [
      "* \n",
      "* * \n",
      "* * * \n",
      "* * * * \n",
      "* * * * * \n",
      "* * * * \n",
      "* * * \n",
      "* * \n",
      "* \n"
     ]
    }
   ],
   "source": [
    "rows1 = 5\n",
    "stars1 = '*'\n",
    "for i in range(0, rows1):\n",
    "    for j in range(0, i+1):\n",
    "        print(stars1, end=' ')\n",
    "    print()\n",
    "    \n",
    "rows2 = 4\n",
    "stars2 = '*'\n",
    "for i in range(rows2, 0, -1):\n",
    "    for j in range(0, i):\n",
    "        print(stars2, end=' ')\n",
    "    print()\n"
   ]
  },
  {
   "cell_type": "code",
   "execution_count": 25,
   "id": "db63fadb",
   "metadata": {},
   "outputs": [
    {
     "name": "stdout",
     "output_type": "stream",
     "text": [
      "[70, 30, 40, 10]\n"
     ]
    }
   ],
   "source": [
    "# 5. Write a Python program to reverse a list using a for loop.\n",
    "\n",
    "list1 = [10,40,30,70]\n",
    "newlist=[]\n",
    "\n",
    "rev = reversed(list1)\n",
    "for i in rev:\n",
    "    newlist.append(i)\n",
    "print(newlist)\n"
   ]
  },
  {
   "cell_type": "code",
   "execution_count": 26,
   "id": "ee23db01",
   "metadata": {},
   "outputs": [
    {
     "name": "stdout",
     "output_type": "stream",
     "text": [
      "1*1=1\n",
      "1*2=2\n",
      "1*3=3\n",
      "1*4=4\n",
      "1*5=5\n",
      "1*6=6\n",
      "1*7=7\n",
      "1*8=8\n",
      "1*9=9\n",
      "1*10=10\n",
      "\n",
      "2*1=2\n",
      "2*2=4\n",
      "2*3=6\n",
      "2*4=8\n",
      "2*5=10\n",
      "2*6=12\n",
      "2*7=14\n",
      "2*8=16\n",
      "2*9=18\n",
      "2*10=20\n",
      "\n",
      "3*1=3\n",
      "3*2=6\n",
      "3*3=9\n",
      "3*4=12\n",
      "3*5=15\n",
      "3*6=18\n",
      "3*7=21\n",
      "3*8=24\n",
      "3*9=27\n",
      "3*10=30\n",
      "\n",
      "4*1=4\n",
      "4*2=8\n",
      "4*3=12\n",
      "4*4=16\n",
      "4*5=20\n",
      "4*6=24\n",
      "4*7=28\n",
      "4*8=32\n",
      "4*9=36\n",
      "4*10=40\n",
      "\n",
      "5*1=5\n",
      "5*2=10\n",
      "5*3=15\n",
      "5*4=20\n",
      "5*5=25\n",
      "5*6=30\n",
      "5*7=35\n",
      "5*8=40\n",
      "5*9=45\n",
      "5*10=50\n",
      "\n",
      "6*1=6\n",
      "6*2=12\n",
      "6*3=18\n",
      "6*4=24\n",
      "6*5=30\n",
      "6*6=36\n",
      "6*7=42\n",
      "6*8=48\n",
      "6*9=54\n",
      "6*10=60\n",
      "\n",
      "7*1=7\n",
      "7*2=14\n",
      "7*3=21\n",
      "7*4=28\n",
      "7*5=35\n",
      "7*6=42\n",
      "7*7=49\n",
      "7*8=56\n",
      "7*9=63\n",
      "7*10=70\n",
      "\n",
      "8*1=8\n",
      "8*2=16\n",
      "8*3=24\n",
      "8*4=32\n",
      "8*5=40\n",
      "8*6=48\n",
      "8*7=56\n",
      "8*8=64\n",
      "8*9=72\n",
      "8*10=80\n",
      "\n",
      "9*1=9\n",
      "9*2=18\n",
      "9*3=27\n",
      "9*4=36\n",
      "9*5=45\n",
      "9*6=54\n",
      "9*7=63\n",
      "9*8=72\n",
      "9*9=81\n",
      "9*10=90\n",
      "\n",
      "10*1=10\n",
      "10*2=20\n",
      "10*3=30\n",
      "10*4=40\n",
      "10*5=50\n",
      "10*6=60\n",
      "10*7=70\n",
      "10*8=80\n",
      "10*9=90\n",
      "10*10=100\n",
      "\n"
     ]
    }
   ],
   "source": [
    "# 6. program to print multiplication table of 1 to 10\n",
    "\n",
    "for i in range(1,11):\n",
    "    for j in range(1,11):\n",
    "        print(str(i)+\"*\"+str(j)+'='+str(i*j))\n",
    "        if j==10:\n",
    "            print()\n",
    "    "
   ]
  },
  {
   "cell_type": "code",
   "execution_count": 27,
   "id": "21f4162a",
   "metadata": {},
   "outputs": [],
   "source": [
    "# 7. Write a python program to find the sum of integers less than 25 using while loop\n"
   ]
  },
  {
   "cell_type": "code",
   "execution_count": null,
   "id": "ad8d4d52",
   "metadata": {},
   "outputs": [],
   "source": [
    "s=0\n",
    "i=1\n",
    "\n",
    "while i<25:\n",
    "    s+=i\n",
    "    i+=1\n",
    "print('sum of integers less than 25 is ',s)"
   ]
  },
  {
   "cell_type": "code",
   "execution_count": null,
   "id": "6feb4a56",
   "metadata": {},
   "outputs": [],
   "source": [
    "# 8. Write a python program to print the even numbers in a list of numbers\n"
   ]
  },
  {
   "cell_type": "code",
   "execution_count": 5,
   "id": "a14c7bd8",
   "metadata": {},
   "outputs": [
    {
     "name": "stdout",
     "output_type": "stream",
     "text": [
      "[6, 4, 2, 10, 12, 14]\n"
     ]
    }
   ],
   "source": [
    "list1 = [6,4,2,9,10,12,14,13,67]\n",
    "ev = []\n",
    "\n",
    "for i in list1:\n",
    "    if i%2==0:\n",
    "        ev.append(i)\n",
    "print(ev)\n",
    "        "
   ]
  },
  {
   "cell_type": "code",
   "execution_count": 6,
   "id": "a5b6dc48",
   "metadata": {},
   "outputs": [],
   "source": [
    "# 9. write a python program to find the sum of elements in a number list"
   ]
  },
  {
   "cell_type": "code",
   "execution_count": 9,
   "id": "37a033e0",
   "metadata": {},
   "outputs": [
    {
     "name": "stdout",
     "output_type": "stream",
     "text": [
      "sum of numbers in list1 is 137\n"
     ]
    }
   ],
   "source": [
    "list1 = [6,4,2,9,10,12,14,13,67]\n",
    "sum1 = 0\n",
    "\n",
    "for i in list1:\n",
    "    sum1+=i\n",
    "print('sum of numbers in list1 is',sum1)"
   ]
  },
  {
   "cell_type": "code",
   "execution_count": 10,
   "id": "2bdf7619",
   "metadata": {},
   "outputs": [],
   "source": [
    "# 10. Write a Python program to check whether a number is prime or not."
   ]
  },
  {
   "cell_type": "code",
   "execution_count": null,
   "id": "1c426ce1",
   "metadata": {},
   "outputs": [],
   "source": [
    "num = int(input('Enter number:'))\n",
    "\n",
    "if num <= 2:\n",
    "    print(num,\"is not prime\")\n",
    "    \n",
    "else:\n",
    "    for i in range(2,int(num/2)+1):\n",
    "        if num%i == 0:\n",
    "            print(num, \"is not a prime number\")\n",
    "            break\n",
    "        else:\n",
    "            print(num, \"is a prime number\")\n"
   ]
  },
  {
   "cell_type": "code",
   "execution_count": null,
   "id": "e56a9379",
   "metadata": {},
   "outputs": [],
   "source": []
  }
 ],
 "metadata": {
  "kernelspec": {
   "display_name": "Python 3 (ipykernel)",
   "language": "python",
   "name": "python3"
  },
  "language_info": {
   "codemirror_mode": {
    "name": "ipython",
    "version": 3
   },
   "file_extension": ".py",
   "mimetype": "text/x-python",
   "name": "python",
   "nbconvert_exporter": "python",
   "pygments_lexer": "ipython3",
   "version": "3.9.13"
  }
 },
 "nbformat": 4,
 "nbformat_minor": 5
}
